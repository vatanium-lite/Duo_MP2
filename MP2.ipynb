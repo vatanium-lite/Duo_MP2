{
 "cells": [
  {
   "cell_type": "code",
   "execution_count": 1,
   "metadata": {
    "id": "3fae0fc2"
   },
   "outputs": [],
   "source": [
    "import numpy as np\n",
    "from itertools import groupby"
   ]
  },
  {
   "cell_type": "code",
   "execution_count": 2,
   "metadata": {
    "id": "6987435d",
    "outputId": "458bc11d-4a85-47a5-a971-ca0ada0b7123"
   },
   "outputs": [
    {
     "data": {
      "text/plain": [
       "['BBIJ....IJCC..IAAMGDDK.MGH.KL.GHFFL.',\n",
       " '..I...BBI.K.GHAAKLGHDDKLG..JEEFF.J..',\n",
       " 'JBBCCCJDD..MJAAL.MFFKL.N..KGGN.HH...',\n",
       " 'BBB..MCCDD.MAAKL.MJ.KLEEJ.GG..JHHHII J0 B4',\n",
       " 'IJBBCCIJDDL.IJAAL.EEK.L...KFF..GGHH. F0 G6',\n",
       " 'BB.G.HE..G.HEAAG.I..FCCIDDF..I..F...']"
      ]
     },
     "execution_count": 2,
     "metadata": {},
     "output_type": "execute_result"
    }
   ],
   "source": [
    "sample_input = open('sample-input.txt')\n",
    "puzzles = [line.strip() for line in [line for line in sample_input.read().splitlines() if len(line)!=0] if line[0]!='#']\n",
    "puzzles"
   ]
  },
  {
   "cell_type": "code",
   "execution_count": 3,
   "metadata": {
    "id": "23523ae8"
   },
   "outputs": [],
   "source": [
    "def create_grid(puzzle:str):\n",
    "    puzzle = puzzle[0:36]\n",
    "    return np.array(list(puzzle), dtype=str).reshape(6,6)\n",
    "\n",
    "def grid_to_string(current_grid_state:np.array):\n",
    "    return ''.join(str(ele) for ele in current_grid_state.flatten())\n",
    "\n",
    "def initial_fuel(puzzle:str):\n",
    "    puzzle = puzzle[36:].split()\n",
    "    return {car[0]:int(car[1]) for car in puzzle}\n",
    "    "
   ]
  },
  {
   "cell_type": "code",
   "execution_count": 10,
   "metadata": {
    "colab": {
     "base_uri": "https://localhost:8080/",
     "height": 183
    },
    "executionInfo": {
     "elapsed": 198,
     "status": "error",
     "timestamp": 1669695795110,
     "user": {
      "displayName": "Kevin Nguyen",
      "userId": "07336901096528624752"
     },
     "user_tz": 300
    },
    "id": "03896805",
    "outputId": "d798b9ad-1bbc-4959-8e5e-ee0c44881988"
   },
   "outputs": [
    {
     "name": "stdout",
     "output_type": "stream",
     "text": [
      "[['B' 'B' 'B' '.' '.' 'M']\n",
      " ['C' 'C' 'D' 'D' '.' 'M']\n",
      " ['A' 'A' 'K' 'L' '.' 'M']\n",
      " ['J' '.' 'K' 'L' 'E' 'E']\n",
      " ['J' '.' 'G' 'G' '.' '.']\n",
      " ['J' 'H' 'H' 'H' 'I' 'I']]\n"
     ]
    }
   ],
   "source": [
    "puzzle_grid = create_grid(puzzles[3])\n",
    "print(puzzle_grid)"
   ]
  },
  {
   "cell_type": "code",
   "execution_count": 11,
   "metadata": {},
   "outputs": [
    {
     "data": {
      "text/plain": [
       "{'J': 0, 'B': 4}"
      ]
     },
     "execution_count": 11,
     "metadata": {},
     "output_type": "execute_result"
    }
   ],
   "source": [
    "initial_fuel(puzzles[3])"
   ]
  },
  {
   "cell_type": "code",
   "execution_count": 12,
   "metadata": {
    "id": "1ac03a69"
   },
   "outputs": [],
   "source": [
    "class Car():\n",
    "    \n",
    "    def __init__(self, is_horizontal:bool, letter:str, car_length:int, arr_indices, fuel):\n",
    "        self.horizontal = is_horizontal\n",
    "        self.letter = letter\n",
    "        self.car_length = car_length\n",
    "        self.arr_indices = arr_indices\n",
    "        self.fuel = fuel\n",
    "    \n",
    "    def __str__(self):\n",
    "        return \"{direction} car '{letter}' with a length of {length}.\"\\\n",
    "        \" Indices i:{indices_i} and j:{indices_j}. It has {fuel} fuel.\".format(\n",
    "            direction='Horizontal' if self.horizontal else 'Vertical',\n",
    "            letter=self.letter,\n",
    "            length=self.car_length,\n",
    "            indices_i=self.arr_indices[0],\n",
    "            indices_j=self.arr_indices[1],\n",
    "            fuel=self.fuel)"
   ]
  },
  {
   "cell_type": "code",
   "execution_count": 17,
   "metadata": {
    "id": "c8e3577e"
   },
   "outputs": [],
   "source": [
    "def get_all_cars_in_grid(puzzle:np.array, fuel):\n",
    "    \n",
    "    #find horizontal cars\n",
    "    cars = []\n",
    "    for row in puzzle[range(6)]:\n",
    "        #https://stackoverflow.com/a/6352456 for finding consecutive duplicates in a list\n",
    "        grouped_row = [(letter, sum(1 for i in g)) for letter, g in groupby(row)]        \n",
    "        grouped_row = [Car(True, letter, num, np.where(puzzle==letter), 100 if letter not in fuel else fuel[letter])\n",
    "                       for letter, num in grouped_row if letter!='.' and num>1]\n",
    "        if grouped_row is not None:\n",
    "            cars = cars + grouped_row\n",
    "    #find vertical cars\n",
    "    for i in range(6):\n",
    "        column = puzzle[:,i]\n",
    "        grouped_column = [(letter, sum(1 for i in g)) for letter, g in groupby(column)]\n",
    "        grouped_column = [Car(False, letter, num, np.where(puzzle==letter), 100 if letter not in fuel else fuel[letter])\n",
    "                          for letter, num in grouped_column if letter!='.' and num>1]\n",
    "        if grouped_column is not None:\n",
    "            cars = cars + grouped_column\n",
    "    \n",
    "    fuel_list = {car.letter:car.fuel for car in cars}\n",
    "    \n",
    "    return cars, fuel_list"
   ]
  },
  {
   "cell_type": "code",
   "execution_count": 21,
   "metadata": {
    "id": "a354cefc"
   },
   "outputs": [],
   "source": [
    "cars, fuel_list = get_all_cars_in_grid(puzzle_grid, initial_fuel(puzzles[3]))"
   ]
  },
  {
   "cell_type": "code",
   "execution_count": 23,
   "metadata": {
    "id": "b3cf2dab",
    "outputId": "4068d054-fd2d-4d33-aa5f-ef7f239433e4",
    "scrolled": true
   },
   "outputs": [
    {
     "name": "stdout",
     "output_type": "stream",
     "text": [
      "Horizontal car 'B' with a length of 3. Indices i:[0 0 0] and j:[0 1 2]. It has 4 fuel.\n",
      "Horizontal car 'C' with a length of 2. Indices i:[1 1] and j:[0 1]. It has 100 fuel.\n",
      "Horizontal car 'D' with a length of 2. Indices i:[1 1] and j:[2 3]. It has 100 fuel.\n",
      "Horizontal car 'A' with a length of 2. Indices i:[2 2] and j:[0 1]. It has 100 fuel.\n",
      "Horizontal car 'E' with a length of 2. Indices i:[3 3] and j:[4 5]. It has 100 fuel.\n",
      "Horizontal car 'G' with a length of 2. Indices i:[4 4] and j:[2 3]. It has 100 fuel.\n",
      "Horizontal car 'H' with a length of 3. Indices i:[5 5 5] and j:[1 2 3]. It has 100 fuel.\n",
      "Horizontal car 'I' with a length of 2. Indices i:[5 5] and j:[4 5]. It has 100 fuel.\n",
      "Vertical car 'J' with a length of 3. Indices i:[3 4 5] and j:[0 0 0]. It has 0 fuel.\n",
      "Vertical car 'K' with a length of 2. Indices i:[2 3] and j:[2 2]. It has 100 fuel.\n",
      "Vertical car 'L' with a length of 2. Indices i:[2 3] and j:[3 3]. It has 100 fuel.\n",
      "Vertical car 'M' with a length of 3. Indices i:[0 1 2] and j:[5 5 5]. It has 100 fuel.\n"
     ]
    }
   ],
   "source": [
    "for car in cars:\n",
    "    print(car)"
   ]
  },
  {
   "cell_type": "code",
   "execution_count": 24,
   "metadata": {},
   "outputs": [
    {
     "data": {
      "text/plain": [
       "{'B': 4,\n",
       " 'C': 100,\n",
       " 'D': 100,\n",
       " 'A': 100,\n",
       " 'E': 100,\n",
       " 'G': 100,\n",
       " 'H': 100,\n",
       " 'I': 100,\n",
       " 'J': 0,\n",
       " 'K': 100,\n",
       " 'L': 100,\n",
       " 'M': 100}"
      ]
     },
     "execution_count": 24,
     "metadata": {},
     "output_type": "execute_result"
    }
   ],
   "source": [
    "fuel_list"
   ]
  },
  {
   "cell_type": "markdown",
   "metadata": {},
   "source": [
    "1. Group the consecutive duplicate letters\n",
    "2. Find the neighbours of the car's letter.\n",
    "3. Append a tuple of the group of empty spaces with the array index adjacent to the car to a list if it neighbours the car\n",
    "4. Return this list\n",
    "\n",
    "Front spaces are defined as j+1 or i+1. AKA going down or going to the right of the matrix.\n",
    "Back spaces are defined as j-1 or i-1. AKA going up or going to the left of the matrix."
   ]
  },
  {
   "cell_type": "code",
   "execution_count": null,
   "metadata": {
    "id": "36d63b82"
   },
   "outputs": [],
   "source": [
    "def find_available_spaces_for_car_on_grid(car:Car, puzzle_grid:np.array):\n",
    "    \n",
    "    back_spaces = 0\n",
    "    front_spaces = 0\n",
    "    \n",
    "    if car.horizontal:\n",
    "        relevant_groups = [(letter, sum(1 for i in g)) for letter, g in groupby(puzzle_grid[car.arr_indices[0][1],:])]\n",
    "        index_of_car=[i for i, group in enumerate(relevant_groups) if group[0]==car.letter][0]\n",
    "    else:\n",
    "        relevant_groups = [(letter, sum(1 for i in g)) for letter, g in groupby(puzzle_grid[:,car.arr_indices[1][0]])]\n",
    "        index_of_car=[i for i, group in enumerate(relevant_groups) if group[0]==car.letter][0]\n",
    "    \n",
    "    try:\n",
    "        front_neighbour = relevant_groups[index_of_car+1]\n",
    "        front_spaces = front_neighbour[1] if front_neighbour[0]=='.' else 0\n",
    "    except IndexError:\n",
    "        front_spaces = 0\n",
    "    try:\n",
    "        back_neighbour = relevant_groups[index_of_car-1] if index_of_car > 0 else ('',0)\n",
    "        back_spaces = back_neighbour[1] if back_neighbour[0]=='.' else 0\n",
    "    except IndexError:\n",
    "        back_spaces = 0\n",
    "    \n",
    "    return car, back_spaces, front_spaces"
   ]
  },
  {
   "cell_type": "code",
   "execution_count": null,
   "metadata": {},
   "outputs": [],
   "source": [
    "car_moves = [find_available_spaces_for_car_on_grid(car, puzzle_grid) for car in cars]\n",
    "car_moves = filter(lambda moves:moves[1]!=0 or moves[2]!=0, car_moves)\n",
    "car_moves = list(car_moves)\n",
    "print(car_moves)"
   ]
  },
  {
   "cell_type": "code",
   "execution_count": null,
   "metadata": {},
   "outputs": [],
   "source": [
    "car_moves[0][0].letter"
   ]
  },
  {
   "cell_type": "markdown",
   "metadata": {},
   "source": [
    "1. Pass car_moves into move_car? Let's assume that the passed amount is valid for the puzzle\n",
    "2. Update the car's array indices\n",
    "3. Update the grid/empty space, replace the car's old position with '.'s, then place the car at its new position\n",
    "4. return new puzzle grid"
   ]
  },
  {
   "cell_type": "code",
   "execution_count": null,
   "metadata": {},
   "outputs": [],
   "source": [
    "def goal_state(puzzle_grid:np.array):\n",
    "    return puzzle_grid[2][5]=='A'"
   ]
  },
  {
   "cell_type": "code",
   "execution_count": null,
   "metadata": {},
   "outputs": [],
   "source": [
    "def move_car(car:Car, puzzle_grid:np.array, amount:int):\n",
    "    #Replace car with empty space\n",
    "    new_grid = np.copy(puzzle_grid)\n",
    "    new_grid[new_grid==car.letter] = '.'\n",
    "    \n",
    "    indices_i, indices_j = car.arr_indices\n",
    "    \n",
    "    if car.horizontal:\n",
    "        indices_j = indices_j + amount\n",
    "    else:\n",
    "        indices_i = indices_i + amount\n",
    "    \n",
    "    #Put car in new array indices\n",
    "    for x in range(len(car.arr_indices[0])):\n",
    "        new_grid[indices_i[x],indices_j[x]] = car.letter\n",
    "            \n",
    "    return new_grid"
   ]
  },
  {
   "cell_type": "code",
   "execution_count": null,
   "metadata": {},
   "outputs": [],
   "source": [
    "def remove_car(puzzle_grid:np.array):\n",
    "    if can_remove_car(puzzle_grid):\n",
    "        letter = puzzle_grid[2][5]\n",
    "        new_grid = np.copy(puzzle_grid)\n",
    "        new_grid[new_grid==letter] = '.'\n",
    "        return new_grid, letter\n",
    "    else:\n",
    "        return None, ''"
   ]
  },
  {
   "cell_type": "code",
   "execution_count": null,
   "metadata": {},
   "outputs": [],
   "source": [
    "def can_remove_car(puzzle_grid:np.array):\n",
    "    \n",
    "    if goal_state(puzzle_grid):\n",
    "        return False\n",
    "    \n",
    "    goal_row = puzzle_grid[2,:]\n",
    "    \n",
    "    car_groups = [(letter, sum(1 for i in g)) for letter, g in groupby(goal_row)]\n",
    "    \n",
    "    return car_groups[-1][0]!='.' and car_groups[-1][1]>1"
   ]
  },
  {
   "cell_type": "code",
   "execution_count": null,
   "metadata": {},
   "outputs": [],
   "source": [
    "can_remove_car(puzzle_grid)"
   ]
  },
  {
   "cell_type": "code",
   "execution_count": null,
   "metadata": {},
   "outputs": [],
   "source": [
    "def save_state(puzzle_grid:np.array):\n",
    "    saved_grid = np.copy(puzzle_grid)\n",
    "    return saved_grid"
   ]
  },
  {
   "cell_type": "code",
   "execution_count": 16,
   "metadata": {},
   "outputs": [],
   "source": [
    "def explore_all_states(current_grid_state:np.array):\n",
    "    new_states = []\n",
    "    # Find move state where a car is removed\n",
    "    remove_car_state, removed_car_letter = remove_car(current_grid_state)\n",
    "    if remove_car_state is not None:\n",
    "        new_states.append((remove_car_state, removed_car_letter, 0))\n",
    "    # Get all moves\n",
    "    cars = get_all_cars_in_grid(current_grid_state)\n",
    "    car_moves = [find_available_spaces_for_car_on_grid(car, current_grid_state) for car in cars]\n",
    "    car_moves = list(filter(lambda moves:moves[1]!=0 or moves[2]!=0, car_moves))\n",
    "    # Create all move states\n",
    "    \n",
    "    for move in car_moves:\n",
    "        current_car, back_spaces, front_spaces = move\n",
    "        if back_spaces>0:\n",
    "            for i in range(1,back_spaces+1):\n",
    "                if(current_car.fuel-i>=0):\n",
    "                    moved_car_state = move_car(current_car, current_grid_state, -i)\n",
    "                    new_states.append((moved_car_state, current_car.letter, -i))\n",
    "        if front_spaces>0:\n",
    "            for i in range(1,front_spaces+1):\n",
    "                if(current_car.fuel-i>=0):\n",
    "                    moved_car_state = move_car(current_car, current_grid_state, i)\n",
    "                    new_states.append((moved_car_state, current_car.letter, i))\n",
    "    return new_states"
   ]
  },
  {
   "cell_type": "code",
   "execution_count": null,
   "metadata": {},
   "outputs": [],
   "source": [
    "new_states = explore_all_states(puzzle_grid)\n",
    "new_states"
   ]
  },
  {
   "cell_type": "code",
   "execution_count": null,
   "metadata": {},
   "outputs": [],
   "source": [
    "def blocking_heuristic(puzzle_grid:np.array):\n",
    "    #since we always know 'A' car is on the third row, we just make group the duplicate characters on the third row\n",
    "    row = [(letter, sum(1 for i in g)) for letter, g in groupby(puzzle_grid[2])]\n",
    "    #filter out the empty space since we can ignore it the heuristic\n",
    "    row = list(filter(lambda group: group[0]!='.', row))\n",
    "    #find the index of the 'A' in the group list\n",
    "    index_of_car=[i for i, group in enumerate(row) if group[0]=='A'][0]+1\n",
    "    #return length of group list - 'A' car's index to get how many cars are blocking 'A'\n",
    "    return len(row)-index_of_car"
   ]
  },
  {
   "cell_type": "code",
   "execution_count": null,
   "metadata": {},
   "outputs": [],
   "source": [
    "def blocked_positions_heuristic(puzzle_grid:np.array):\n",
    "    #since we always know 'A' car is on the third row, we just make group the duplicate characters on the third row\n",
    "    row = [(letter, sum(1 for i in g)) for letter, g in groupby(puzzle_grid[2])]\n",
    "    #filter out the empty space\n",
    "    row = list(filter(lambda group: group[0]!='.', row))\n",
    "    #find the index of the 'A' in the group list\n",
    "    index_of_car=[i for i, group in enumerate(row) if group[0]=='A'][0]+1\n",
    "    #sum all the groups after 'A'\n",
    "    blocked_positions = sum(blocking_groups[1] for blocking_groups in row[index_of_car:])\n",
    "    return blocked_positions"
   ]
  },
  {
   "cell_type": "code",
   "execution_count": null,
   "metadata": {},
   "outputs": [],
   "source": [
    "#a* algorithm from https://leetcode.com/problems/shortest-path-in-binary-matrix/discuss/313347/a-search-in-python\n",
    "\n",
    "from heapq import heappush, heappop\n",
    "\n",
    "class PriorityQueue:\n",
    "    \n",
    "    def __init__(self, iterable=[]):\n",
    "        self.heap = []\n",
    "        for value in iterable:\n",
    "            heappush(self.heap, (0, value))\n",
    "    \n",
    "    def add(self, value, priority=0):\n",
    "        heappush(self.heap, (priority, value))\n",
    "    \n",
    "    def pop(self):\n",
    "        priority, value = heappop(self.heap)\n",
    "        return value\n",
    "    \n",
    "    def __len__(self):\n",
    "        return len(self.heap)"
   ]
  },
  {
   "cell_type": "code",
   "execution_count": null,
   "metadata": {},
   "outputs": [],
   "source": [
    "#a* algorithm from https://leetcode.com/problems/shortest-path-in-binary-matrix/discuss/313347/a-search-in-python\n",
    "\n",
    "def a_star_search(\n",
    "        start,\n",
    "        goal,\n",
    "        successors,\n",
    "        heuristic\n",
    "    ):\n",
    "    start = grid_to_string(start)\n",
    "    visited = set()\n",
    "    came_from = dict()\n",
    "    distance = {start:0}\n",
    "    frontier = PriorityQueue()\n",
    "    frontier.add(start)\n",
    "    while frontier:\n",
    "        node = frontier.pop()\n",
    "        if node in visited:\n",
    "            continue\n",
    "        if goal(create_grid(node)):\n",
    "            return reconstruct_path(came_from, start, node)\n",
    "        visited.add(node)\n",
    "        for successor in successors(create_grid(node)):\n",
    "            successor_state, successor_letter, successor_distance = successor\n",
    "            state_string = grid_to_string(successor_state)\n",
    "            successor_distance = abs(successor_distance)\n",
    "            \n",
    "            frontier.add(state_string, priority=distance[node] + successor_distance + heuristic(successor_state))\n",
    "            if (state_string not in distance\n",
    "                or distance[node] + successor_distance < distance[state_string]):\n",
    "                distance[state_string] = distance[node] + successor_distance\n",
    "                came_from[state_string] = node\n",
    "    return None"
   ]
  },
  {
   "cell_type": "code",
   "execution_count": null,
   "metadata": {},
   "outputs": [],
   "source": [
    "def reconstruct_path(came_from, start, end):\n",
    "    reverse_path = [end]\n",
    "    while end != start:\n",
    "        end = came_from[end]\n",
    "        reverse_path.append(end)\n",
    "    return list(reversed(reverse_path))"
   ]
  },
  {
   "cell_type": "code",
   "execution_count": null,
   "metadata": {},
   "outputs": [],
   "source": [
    "shortest_path = a_star_search(puzzle_grid, goal_state, explore_all_states, blocking_heuristic)"
   ]
  },
  {
   "cell_type": "code",
   "execution_count": null,
   "metadata": {},
   "outputs": [],
   "source": [
    "print(grid_to_string(puzzle_grid))"
   ]
  },
  {
   "cell_type": "code",
   "execution_count": null,
   "metadata": {},
   "outputs": [],
   "source": [
    "shortest_path"
   ]
  },
  {
   "cell_type": "code",
   "execution_count": null,
   "metadata": {},
   "outputs": [],
   "source": [
    "grids = [create_grid(state) for state in shortest_path]"
   ]
  },
  {
   "cell_type": "code",
   "execution_count": null,
   "metadata": {},
   "outputs": [],
   "source": [
    "grids"
   ]
  },
  {
   "cell_type": "code",
   "execution_count": null,
   "metadata": {},
   "outputs": [],
   "source": []
  }
 ],
 "metadata": {
  "colab": {
   "provenance": []
  },
  "kernelspec": {
   "display_name": "Python 3",
   "language": "python",
   "name": "python3"
  },
  "language_info": {
   "codemirror_mode": {
    "name": "ipython",
    "version": 3
   },
   "file_extension": ".py",
   "mimetype": "text/x-python",
   "name": "python",
   "nbconvert_exporter": "python",
   "pygments_lexer": "ipython3",
   "version": "3.8.5"
  }
 },
 "nbformat": 4,
 "nbformat_minor": 5
}
