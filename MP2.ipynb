{
 "cells": [
  {
   "cell_type": "code",
   "execution_count": 1,
   "metadata": {
    "id": "3fae0fc2"
   },
   "outputs": [],
   "source": [
    "import numpy as np\n",
    "from itertools import groupby\n",
    "from pathlib import Path\n",
    "from IPython.core.debugger import set_trace\n",
    "import time"
   ]
  },
  {
   "cell_type": "code",
   "execution_count": 2,
   "metadata": {
    "id": "6987435d",
    "outputId": "458bc11d-4a85-47a5-a971-ca0ada0b7123"
   },
   "outputs": [
    {
     "data": {
      "text/plain": [
       "['BBIJ....IJCC..IAAMGDDK.MGH.KL.GHFFL.',\n",
       " '..I...BBI.K.GHAAKLGHDDKLG..JEEFF.J..',\n",
       " 'JBBCCCJDD..MJAAL.MFFKL.N..KGGN.HH...',\n",
       " 'BBB..MCCDD.MAAKL.MJ.KLEEJ.GG..JHHHII J0 B4',\n",
       " 'IJBBCCIJDDL.IJAAL.EEK.L...KFF..GGHH. F0 G6',\n",
       " 'BB.G.HE..G.HEAAG.I..FCCIDDF..I..F...']"
      ]
     },
     "execution_count": 2,
     "metadata": {},
     "output_type": "execute_result"
    }
   ],
   "source": [
    "sample_input = open('sample-input.txt')\n",
    "puzzles = [line.strip() for line in [line for line in sample_input.read().splitlines() if len(line)!=0] if line[0]!='#']\n",
    "puzzles"
   ]
  },
  {
   "cell_type": "code",
   "execution_count": 3,
   "metadata": {
    "id": "23523ae8"
   },
   "outputs": [],
   "source": [
    "def create_grid(puzzle:str):\n",
    "    return np.array(list(puzzle[0:36]), dtype=str).reshape(6,6), {car[0]:int(car[1:]) for car in puzzle[36:].split()}\n",
    "\n",
    "def grid_to_string(current_grid_state:np.array, fuel:dict()):\n",
    "    fuel_list = ' '\n",
    "    for key in fuel:\n",
    "        fuel_list = fuel_list + \"{key}{value} \".format(key=key, value=fuel[key])\n",
    "    \n",
    "    return ''.join(str(ele) for ele in current_grid_state.flatten()) + fuel_list\n",
    "\n",
    "def get_only_grid_string(puzzle:str):\n",
    "    return puzzle[0:36]"
   ]
  },
  {
   "cell_type": "code",
   "execution_count": 4,
   "metadata": {
    "id": "1ac03a69"
   },
   "outputs": [],
   "source": [
    "class Car():\n",
    "    \n",
    "    def __init__(self, is_horizontal:bool, letter:str, car_length:int, arr_indices, fuel):\n",
    "        self.horizontal = is_horizontal\n",
    "        self.letter = letter\n",
    "        self.car_length = car_length\n",
    "        self.arr_indices = arr_indices\n",
    "        self.fuel = fuel\n",
    "    \n",
    "    def __str__(self):\n",
    "        return \"{direction} car '{letter}' with a length of {length}.\"\\\n",
    "        \" Indices i:{indices_i} and j:{indices_j}. It has {fuel} fuel.\".format(\n",
    "            direction='Horizontal' if self.horizontal else 'Vertical',\n",
    "            letter=self.letter,\n",
    "            length=self.car_length,\n",
    "            indices_i=self.arr_indices[0],\n",
    "            indices_j=self.arr_indices[1],\n",
    "            fuel=self.fuel)"
   ]
  },
  {
   "cell_type": "code",
   "execution_count": 5,
   "metadata": {
    "id": "c8e3577e"
   },
   "outputs": [],
   "source": [
    "def get_all_cars_in_grid(puzzle:str):\n",
    "    \n",
    "    puzzle, fuel = create_grid(puzzle)\n",
    "    \n",
    "    #find horizontal cars\n",
    "    cars = []\n",
    "    for row in puzzle[range(6)]:\n",
    "        #https://stackoverflow.com/a/6352456 for finding consecutive duplicates in a list\n",
    "        grouped_row = [(letter, sum(1 for i in g)) for letter, g in groupby(row)]        \n",
    "        grouped_row = [Car(True, letter, num, np.where(puzzle==letter), 100 if letter not in fuel else fuel[letter])\n",
    "                       for letter, num in grouped_row if letter!='.' and num>1]\n",
    "        if grouped_row is not None:\n",
    "            cars = cars + grouped_row\n",
    "    #find vertical cars\n",
    "    for i in range(6):\n",
    "        column = puzzle[:,i]\n",
    "        grouped_column = [(letter, sum(1 for i in g)) for letter, g in groupby(column)]\n",
    "        grouped_column = [Car(False, letter, num, np.where(puzzle==letter), 100 if letter not in fuel else fuel[letter])\n",
    "                          for letter, num in grouped_column if letter!='.' and num>1]\n",
    "        if grouped_column is not None:\n",
    "            cars = cars + grouped_column\n",
    "    \n",
    "    return cars"
   ]
  },
  {
   "cell_type": "markdown",
   "metadata": {},
   "source": [
    "1. Group the consecutive duplicate letters\n",
    "2. Find the neighbours of the car's letter.\n",
    "3. Append a tuple of the group of empty spaces with the array index adjacent to the car to a list if it neighbours the car\n",
    "4. Return this list\n",
    "\n",
    "Front spaces are defined as j+1 or i+1. AKA going down or going to the right of the matrix.\n",
    "Back spaces are defined as j-1 or i-1. AKA going up or going to the left of the matrix."
   ]
  },
  {
   "cell_type": "code",
   "execution_count": 6,
   "metadata": {
    "id": "36d63b82"
   },
   "outputs": [],
   "source": [
    "def find_available_spaces_for_car_on_grid(car:Car, puzzle:str):\n",
    "    \n",
    "    back_spaces = 0\n",
    "    front_spaces = 0\n",
    "    \n",
    "    puzzle_grid, fuel = create_grid(puzzle)\n",
    "    \n",
    "    if car.horizontal:\n",
    "        relevant_groups = [(letter, sum(1 for i in g)) for letter, g in groupby(puzzle_grid[car.arr_indices[0][1],:])]\n",
    "        index_of_car=[i for i, group in enumerate(relevant_groups) if group[0]==car.letter][0]\n",
    "    else:\n",
    "        relevant_groups = [(letter, sum(1 for i in g)) for letter, g in groupby(puzzle_grid[:,car.arr_indices[1][0]])]\n",
    "        index_of_car=[i for i, group in enumerate(relevant_groups) if group[0]==car.letter][0]\n",
    "    \n",
    "    try:\n",
    "        front_neighbour = relevant_groups[index_of_car+1]\n",
    "        #finds number of empty spaces in front of the car, otherwise it is 0\n",
    "        front_spaces = front_neighbour[1] if front_neighbour[0]=='.' else 0\n",
    "        #checks to see if the car can travel that amount of spaces with its fuel,\n",
    "        #otherwise, the fuel is the max number of spaces it can traverse\n",
    "        front_spaces = car.fuel if front_spaces > car.fuel else front_spaces\n",
    "    except IndexError:\n",
    "        front_spaces = 0\n",
    "    try:\n",
    "        back_neighbour = relevant_groups[index_of_car-1] if index_of_car > 0 else ('',0)\n",
    "        back_spaces = back_neighbour[1] if back_neighbour[0]=='.' else 0\n",
    "        back_spaces = car.fuel if back_spaces > car.fuel else back_spaces\n",
    "    except IndexError:\n",
    "        back_spaces = 0\n",
    "    \n",
    "    return car, back_spaces, front_spaces"
   ]
  },
  {
   "cell_type": "markdown",
   "metadata": {},
   "source": [
    "1. Pass car_moves into move_car? Let's assume that the passed amount is valid for the puzzle\n",
    "2. Update the car's array indices\n",
    "3. Update the grid/empty space, replace the car's old position with '.'s, then place the car at its new position\n",
    "4. return new puzzle grid"
   ]
  },
  {
   "cell_type": "code",
   "execution_count": 7,
   "metadata": {},
   "outputs": [],
   "source": [
    "def goal_state(puzzle:str):\n",
    "    puzzle_grid, fuel = create_grid(puzzle)\n",
    "    return puzzle_grid[2][5]=='A'"
   ]
  },
  {
   "cell_type": "code",
   "execution_count": 8,
   "metadata": {},
   "outputs": [],
   "source": [
    "def move_car(car:Car, puzzle:str, amount:int):\n",
    "    puzzle_grid, fuel = create_grid(puzzle)\n",
    "    \n",
    "    #Replace car with empty space\n",
    "    new_grid = np.copy(puzzle_grid)\n",
    "    new_grid[new_grid==car.letter] = '.'\n",
    "    indices_i, indices_j = car.arr_indices\n",
    "    new_fuel = car.fuel - abs(amount)\n",
    "    \n",
    "    if car.horizontal:\n",
    "        indices_j = indices_j + amount\n",
    "    else:\n",
    "        indices_i = indices_i + amount\n",
    "    \n",
    "    #Put car in new array indices\n",
    "    for x in range(len(car.arr_indices[0])):\n",
    "        new_grid[indices_i[x],indices_j[x]] = car.letter\n",
    "    \n",
    "    #Add fuel changes to end of grid string\n",
    "    fuel[car.letter] = new_fuel\n",
    "    \n",
    "    return grid_to_string(new_grid, fuel)"
   ]
  },
  {
   "cell_type": "code",
   "execution_count": 9,
   "metadata": {},
   "outputs": [],
   "source": [
    "def remove_car(puzzle:str):\n",
    "    puzzle_grid, fuel = create_grid(puzzle)\n",
    "    if can_remove_car(puzzle):\n",
    "        letter = puzzle_grid[2][5]\n",
    "        new_grid = np.copy(puzzle_grid)\n",
    "        new_grid[new_grid==letter] = '.'\n",
    "        return grid_to_string(new_grid, fuel), letter\n",
    "    else:\n",
    "        return None, ''"
   ]
  },
  {
   "cell_type": "code",
   "execution_count": 10,
   "metadata": {},
   "outputs": [],
   "source": [
    "def can_remove_car(puzzle:str):\n",
    "    puzzle_grid, fuel = create_grid(puzzle)\n",
    "    if goal_state(puzzle):\n",
    "        return False\n",
    "    \n",
    "    goal_row = puzzle_grid[2,:]\n",
    "    \n",
    "    car_groups = [(letter, sum(1 for i in g)) for letter, g in groupby(goal_row)]\n",
    "    \n",
    "    return car_groups[-1][0]!='.' and car_groups[-1][1]>1"
   ]
  },
  {
   "cell_type": "code",
   "execution_count": 11,
   "metadata": {},
   "outputs": [],
   "source": [
    "def explore_all_states(current_grid_state_string:str):\n",
    "    current_grid_state, fuel = create_grid(current_grid_state_string)\n",
    "    \n",
    "    new_states = []\n",
    "    # Find move state where a car is removed\n",
    "    remove_car_state, removed_car_letter = remove_car(current_grid_state_string)\n",
    "    if remove_car_state is not None:\n",
    "        new_states.append((remove_car_state, removed_car_letter, 0))\n",
    "    # Get all moves\n",
    "    cars = get_all_cars_in_grid(current_grid_state_string)\n",
    "    car_moves = [find_available_spaces_for_car_on_grid(car, current_grid_state_string) for car in cars]\n",
    "    car_moves = list(filter(lambda moves:moves[1]!=0 or moves[2]!=0, car_moves))\n",
    "    # Create all move states\n",
    "    \n",
    "    for move in car_moves:\n",
    "        current_car, back_spaces, front_spaces = move\n",
    "        if back_spaces>0:\n",
    "            for i in range(1,back_spaces+1):\n",
    "                if(current_car.fuel-i>=0):\n",
    "                    moved_car_state = move_car(current_car, current_grid_state_string, -i)\n",
    "                    new_states.append((moved_car_state, current_car.letter, -i, current_car.fuel-i))\n",
    "        if front_spaces>0:\n",
    "            for i in range(1,front_spaces+1):\n",
    "                if(current_car.fuel-i>=0):\n",
    "                    moved_car_state = move_car(current_car, current_grid_state_string, i)\n",
    "                    new_states.append((moved_car_state, current_car.letter, i, current_car.fuel-i))\n",
    "    return new_states"
   ]
  },
  {
   "cell_type": "code",
   "execution_count": 12,
   "metadata": {},
   "outputs": [],
   "source": [
    "def blocking_heuristic(puzzle:str):\n",
    "    puzzle_grid, fuel = create_grid(puzzle)\n",
    "    #since we always know 'A' car is on the third row, we just make group the duplicate characters on the third row\n",
    "    row = [(letter, sum(1 for i in g)) for letter, g in groupby(puzzle_grid[2])]\n",
    "    #filter out the empty space since we can ignore it the heuristic\n",
    "    row = list(filter(lambda group: group[0]!='.', row))\n",
    "    #find the index of the 'A' in the group list\n",
    "    index_of_car=[i for i, group in enumerate(row) if group[0]=='A'][0]+1\n",
    "    #return length of group list - 'A' car's index to get how many cars are blocking 'A'\n",
    "    return len(row)-index_of_car"
   ]
  },
  {
   "cell_type": "code",
   "execution_count": 13,
   "metadata": {},
   "outputs": [],
   "source": [
    "def blocked_positions_heuristic(puzzle:str):\n",
    "    puzzle_grid, fuel = create_grid(puzzle)\n",
    "    #since we always know 'A' car is on the third row, we just make group the duplicate characters on the third row\n",
    "    row = [(letter, sum(1 for i in g)) for letter, g in groupby(puzzle_grid[2])]\n",
    "    #filter out the empty space\n",
    "    row = list(filter(lambda group: group[0]!='.', row))\n",
    "    #find the index of the 'A' in the group list\n",
    "    index_of_car=[i for i, group in enumerate(row) if group[0]=='A'][0]+1\n",
    "    #sum all the groups after 'A'\n",
    "    blocked_positions = sum(blocking_groups[1] for blocking_groups in row[index_of_car:])\n",
    "    return blocked_positions"
   ]
  },
  {
   "cell_type": "code",
   "execution_count": 14,
   "metadata": {},
   "outputs": [],
   "source": [
    "def blocking_heuristic_with_multiplier(puzzle:str):\n",
    "    multiplier = 4\n",
    "    return blocking_heuristic(puzzle)*multiplier"
   ]
  },
  {
   "cell_type": "code",
   "execution_count": 15,
   "metadata": {},
   "outputs": [],
   "source": [
    "#a* algorithm from https://leetcode.com/problems/shortest-path-in-binary-matrix/discuss/313347/a-search-in-python\n",
    "\n",
    "from heapq import heappush, heappop\n",
    "\n",
    "class PriorityQueue:\n",
    "    \n",
    "    def __init__(self, iterable=[]):\n",
    "        self.heap = []\n",
    "        for value in iterable:\n",
    "            heappush(self.heap, (0, value))\n",
    "    \n",
    "    def add(self, value, priority=0):\n",
    "        heappush(self.heap, (priority, value))\n",
    "    \n",
    "    def pop(self):\n",
    "        priority, value = heappop(self.heap)\n",
    "        return value\n",
    "    \n",
    "    def __len__(self):\n",
    "        return len(self.heap)"
   ]
  },
  {
   "cell_type": "code",
   "execution_count": 16,
   "metadata": {},
   "outputs": [],
   "source": [
    "#a* algorithm from https://leetcode.com/problems/shortest-path-in-binary-matrix/discuss/313347/a-search-in-python\n",
    "\n",
    "def a_star_search(\n",
    "        start,\n",
    "        goal,\n",
    "        successors,\n",
    "        heuristic\n",
    "    ):\n",
    "    visited = set()\n",
    "    came_from = dict()\n",
    "    distance = {start:0}\n",
    "    frontier = PriorityQueue()\n",
    "    frontier.add(start)\n",
    "    actions_info = {start:(None)}\n",
    "    search_states = dict()\n",
    "    search_count = 0\n",
    "    while frontier:\n",
    "        node = frontier.pop()\n",
    "        if get_only_grid_string(node) in visited:\n",
    "            continue\n",
    "        if goal(node):\n",
    "            goal_path = reconstruct_path(came_from, start, node)\n",
    "            relevant_actions = [actions_info[state] for state in goal_path]\n",
    "            return goal_path, relevant_actions, search_count, search_states\n",
    "        visited.add(get_only_grid_string(node))\n",
    "        for successor in successors(node):\n",
    "            successor_state, successor_letter, successor_distance, successor_fuel = successor\n",
    "            actions_info[successor_state] = (successor_letter, successor_distance)\n",
    "            \n",
    "            successor_distance = abs(successor_distance)\n",
    "            frontier.add(successor_state, priority=distance[node] + 1 + heuristic(successor_state))\n",
    "            \n",
    "            search_states[successor_state] = (distance[node] + 1, heuristic(successor_state))\n",
    "            search_count = search_count + 1;\n",
    "            \n",
    "            if (successor_state not in distance\n",
    "                or distance[node] + 1 < distance[successor_state]):\n",
    "                distance[successor_state] = distance[node] + 1\n",
    "                came_from[successor_state] = node\n",
    "    return None, search_count, search_states"
   ]
  },
  {
   "cell_type": "code",
   "execution_count": 17,
   "metadata": {},
   "outputs": [],
   "source": [
    "def reconstruct_path(came_from, start, end):\n",
    "    reverse_path = [end]\n",
    "    while end != start:\n",
    "        end = came_from[end]\n",
    "        reverse_path.append(end)\n",
    "    return list(reversed(reverse_path))"
   ]
  },
  {
   "cell_type": "code",
   "execution_count": 18,
   "metadata": {},
   "outputs": [],
   "source": [
    "def determine_dir_of_car(cars, action):\n",
    "    cars_dict = {car.letter:car.horizontal for car in cars}\n",
    "    letter, distance = action\n",
    "    if(cars_dict[letter]):\n",
    "        return 'right' if distance > 0 else 'left'\n",
    "    else:\n",
    "        return 'down' if distance > 0 else 'up'"
   ]
  },
  {
   "cell_type": "code",
   "execution_count": 19,
   "metadata": {},
   "outputs": [],
   "source": [
    "def format_explored_states(search_states):\n",
    "    states_str_list = []\n",
    "    for state in search_states:\n",
    "        dist_val, heur_val = search_states[state]\n",
    "        total = dist_val + heur_val\n",
    "        states_str_list.append('{f} {g} {h} {state}\\n'.format(f=total, g=dist_val, h=heur_val, state=state))\n",
    "    return states_str_list"
   ]
  },
  {
   "cell_type": "code",
   "execution_count": 20,
   "metadata": {},
   "outputs": [],
   "source": [
    "heuristics = [blocking_heuristic, blocked_positions_heuristic, blocking_heuristic_with_multiplier]"
   ]
  },
  {
   "cell_type": "code",
   "execution_count": 21,
   "metadata": {},
   "outputs": [],
   "source": [
    "for p in range(len(puzzles)):\n",
    "    for h in range(len(heuristics)):\n",
    "        current_heuristic=heuristics[h]\n",
    "        current_puzzle=puzzles[p]\n",
    "        search_states_with_eval=dict()\n",
    "        \n",
    "        #create the file\n",
    "        file_name='a-h{h_num}-sol-{sol_num}.txt'.format(h_num=h+1, sol_num=p+1)\n",
    "        file = Path('output/{file}'.format(file=file_name))\n",
    "        file.touch()\n",
    "        fuel_str = ' '.join('{}{}'.format(car.letter, car.fuel) for car in get_all_cars_in_grid(current_puzzle))\n",
    "        cars = get_all_cars_in_grid(current_puzzle)\n",
    "\n",
    "        #run a* algorithm\n",
    "        start_time = time.perf_counter()\n",
    "        solution = a_star_search(current_puzzle, goal_state, explore_all_states, current_heuristic)\n",
    "        stop_time = time.perf_counter()\n",
    "        if solution[0] is None:\n",
    "            search_states_with_eval = solution[2]\n",
    "            with open('output/{file}'.format(file=file_name),'a') as file:\n",
    "                file.writelines('no solution')\n",
    "                file.close()\n",
    "        else:\n",
    "            solution_path, solution_actions, states_explored, search_states_with_eval = solution\n",
    "\n",
    "            #get solution actions as strings\n",
    "            solution_actions = [(letter,determine_dir_of_car(cars,(letter, distance)),distance) for letter, distance in solution_actions[1:]]\n",
    "            solution_actions = ['{letter} {direction} {distance}'.format(letter=x, direction=y, distance=abs(z)) for x,y,z in solution_actions]\n",
    "\n",
    "            with open('output/{file}'.format(file=file_name),'a') as file:\n",
    "                file.writelines([\n",
    "                            'Initial Board Configuration: {puzzle}\\n'.format(puzzle=current_puzzle),\n",
    "                            '\\n{}\\n'.format(str(create_grid(current_puzzle)[0])),\n",
    "                            '\\nCar Fuel Available: {}\\n'.format(fuel_str),\n",
    "                            '\\nRuntime: {} seconds\\n'.format(stop_time-start_time),\n",
    "                            '\\nSearch path length: {} states\\n'.format(states_explored),\n",
    "                            '\\nSolution path length: {} moves\\n'.format(len(solution_path)-1),\n",
    "                            '\\nSolution path: {}\\n'.format('; '.join(solution_actions))\n",
    "                ])\n",
    "\n",
    "                for i in range(1,len(solution_path)):\n",
    "                    file.writelines([\n",
    "                            '\\n{}\\t{}\\n'.format(solution_actions[i-1],solution_path[i])\n",
    "                    ])\n",
    "\n",
    "                file.writelines('\\n{}\\n'.format(str(create_grid(solution_path[-1])[0])))\n",
    "\n",
    "                file.close()\n",
    "            \n",
    "        # search file creation\n",
    "        file_name='a-h{h_num}-search-{sol_num}.txt'.format(h_num=h+1, sol_num=p+1)\n",
    "        file = Path('output/{file}'.format(file=file_name))\n",
    "        file.touch()\n",
    "        \n",
    "        formatted_search_states = format_explored_states(search_states_with_eval)\n",
    "        \n",
    "        with open('output/{file}'.format(file=file_name),'a') as file:\n",
    "            file.writelines(formatted_search_states)\n",
    "            file.close()"
   ]
  },
  {
   "cell_type": "markdown",
   "metadata": {},
   "source": [
    "# TODO:\n",
    "# - Start on UCS\n",
    "# - Add the other 2 heuristics"
   ]
  },
  {
   "cell_type": "code",
   "execution_count": 22,
   "metadata": {},
   "outputs": [],
   "source": [
    "def ucs(start, goal, successors):\n",
    "    visited = set()\n",
    "    came_from = dict()\n",
    "    distance = {start:0}\n",
    "    frontier = PriorityQueue()\n",
    "    frontier.add(start)\n",
    "    actions_info = {start:(None)}\n",
    "    search_states = dict()\n",
    "    search_count = 0\n",
    "    while frontier:\n",
    "        node = frontier.pop()\n",
    "        if get_only_grid_string(node) in visited:\n",
    "            continue\n",
    "        if goal(node):\n",
    "            goal_path = reconstruct_path(came_from, start, node)\n",
    "            relevant_actions = [actions_info[state] for state in goal_path]\n",
    "            return goal_path, relevant_actions, search_count, search_states\n",
    "        visited.add(get_only_grid_string(node))\n",
    "        for successor in successors(node):\n",
    "            successor_state, successor_letter, successor_distance, successor_fuel = successor\n",
    "            actions_info[successor_state] = (successor_letter, successor_distance)\n",
    "            \n",
    "            successor_distance = abs(successor_distance)\n",
    "            frontier.add(successor_state, priority=distance[node] + 1)\n",
    "            \n",
    "            search_states[successor_state] = distance[node] + 1\n",
    "            search_count = search_count + 1\n",
    "            \n",
    "            if (successor_state not in distance\n",
    "                or distance[node] + 1 < distance[successor_state]):\n",
    "                distance[successor_state] = distance[node] + 1\n",
    "                came_from[successor_state] = node\n",
    "    return None, search_count, search_states"
   ]
  },
  {
   "cell_type": "markdown",
   "metadata": {},
   "source": [
    "# UCS Version"
   ]
  },
  {
   "cell_type": "code",
   "execution_count": 25,
   "metadata": {},
   "outputs": [],
   "source": [
    "def format_explored_states_ucs(search_states):\n",
    "    states_str_list = []\n",
    "    for state in search_states:\n",
    "        dist_val = search_states[state]\n",
    "        states_str_list.append('{g} {state}\\n'.format(g=dist_val, state=state))\n",
    "    return states_str_list"
   ]
  },
  {
   "cell_type": "code",
   "execution_count": 26,
   "metadata": {},
   "outputs": [],
   "source": [
    "for p in range(len(puzzles)):\n",
    "    current_puzzle=puzzles[p]\n",
    "    search_states_with_eval=dict()\n",
    "\n",
    "    #create the file\n",
    "    file_name='ucs-sol-{sol_num}.txt'.format(sol_num=p+1)\n",
    "    file = Path('output/{file}'.format(file=file_name))\n",
    "    file.touch()\n",
    "    fuel_str = ' '.join('{}{}'.format(car.letter, car.fuel) for car in get_all_cars_in_grid(current_puzzle))\n",
    "    cars = get_all_cars_in_grid(current_puzzle)\n",
    "\n",
    "    #run a* algorithm\n",
    "    start_time = time.perf_counter()\n",
    "    solution = ucs(current_puzzle, goal_state, explore_all_states)\n",
    "    stop_time = time.perf_counter()\n",
    "    if solution[0] is None:\n",
    "        search_states_with_eval = solution[2]\n",
    "        with open('output/{file}'.format(file=file_name),'a') as file:\n",
    "            file.writelines('no solution')\n",
    "            file.close()\n",
    "    else:\n",
    "        solution_path, solution_actions, states_explored, search_states_with_eval = solution\n",
    "\n",
    "        #get solution actions as strings\n",
    "        solution_actions = [(letter,determine_dir_of_car(cars,(letter, distance)),distance) for letter, distance in solution_actions[1:]]\n",
    "        solution_actions = ['{letter} {direction} {distance}'.format(letter=x, direction=y, distance=abs(z)) for x,y,z in solution_actions]\n",
    "\n",
    "        with open('output/{file}'.format(file=file_name),'a') as file:\n",
    "            file.writelines([\n",
    "                        'Initial Board Configuration: {puzzle}\\n'.format(puzzle=current_puzzle),\n",
    "                        '\\n{}\\n'.format(str(create_grid(current_puzzle)[0])),\n",
    "                        '\\nCar Fuel Available: {}\\n'.format(fuel_str),\n",
    "                        '\\nRuntime: {} seconds\\n'.format(stop_time-start_time),\n",
    "                        '\\nSearch path length: {} states\\n'.format(states_explored),\n",
    "                        '\\nSolution path length: {} moves\\n'.format(len(solution_path)-1),\n",
    "                        '\\nSolution path: {}\\n'.format('; '.join(solution_actions))\n",
    "            ])\n",
    "\n",
    "            for i in range(1,len(solution_path)):\n",
    "                file.writelines([\n",
    "                        '\\n{}\\t{}\\n'.format(solution_actions[i-1],solution_path[i])\n",
    "                ])\n",
    "\n",
    "            file.writelines('\\n{}\\n'.format(str(create_grid(solution_path[-1])[0])))\n",
    "\n",
    "            file.close()\n",
    "\n",
    "    # search file creation\n",
    "    file_name='ucs-search-{sol_num}.txt'.format(sol_num=p+1)\n",
    "    file = Path('output/{file}'.format(file=file_name))\n",
    "    file.touch()\n",
    "\n",
    "    formatted_search_states = format_explored_states_ucs(search_states_with_eval)\n",
    "\n",
    "    with open('output/{file}'.format(file=file_name),'a') as file:\n",
    "        file.writelines(formatted_search_states)\n",
    "        file.close()"
   ]
  },
  {
   "cell_type": "code",
   "execution_count": null,
   "metadata": {},
   "outputs": [],
   "source": []
  }
 ],
 "metadata": {
  "colab": {
   "provenance": []
  },
  "kernelspec": {
   "display_name": "Python 3",
   "language": "python",
   "name": "python3"
  },
  "language_info": {
   "codemirror_mode": {
    "name": "ipython",
    "version": 3
   },
   "file_extension": ".py",
   "mimetype": "text/x-python",
   "name": "python",
   "nbconvert_exporter": "python",
   "pygments_lexer": "ipython3",
   "version": "3.8.5"
  }
 },
 "nbformat": 4,
 "nbformat_minor": 5
}
