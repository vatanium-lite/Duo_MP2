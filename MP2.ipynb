{
 "cells": [
  {
   "cell_type": "code",
   "execution_count": 1,
   "metadata": {
    "id": "3fae0fc2"
   },
   "outputs": [],
   "source": [
    "import numpy as np\n",
    "from itertools import groupby"
   ]
  },
  {
   "cell_type": "code",
   "execution_count": 2,
   "metadata": {
    "id": "6987435d",
    "outputId": "458bc11d-4a85-47a5-a971-ca0ada0b7123"
   },
   "outputs": [
    {
     "data": {
      "text/plain": [
       "['BBIJ....IJCC..IAAMGDDK.MGH.KL.GHFFL.',\n",
       " '..I...BBI.K.GHAAKLGHDDKLG..JEEFF.J..',\n",
       " 'JBBCCCJDD..MJAAL.MFFKL.N..KGGN.HH...',\n",
       " 'BBB..MCCDD.MAAKL.MJ.KLEEJ.GG..JHHHII J0 B4',\n",
       " 'IJBBCCIJDDL.IJAAL.EEK.L...KFF..GGHH. F0 G6',\n",
       " 'BB.G.HE..G.HEAAG.I..FCCIDDF..I..F...']"
      ]
     },
     "execution_count": 2,
     "metadata": {},
     "output_type": "execute_result"
    }
   ],
   "source": [
    "sample_input = open('sample-input.txt')\n",
    "puzzles = [line.strip() for line in [line for line in sample_input.read().splitlines() if len(line)!=0] if line[0]!='#']\n",
    "puzzles"
   ]
  },
  {
   "cell_type": "code",
   "execution_count": 3,
   "metadata": {
    "id": "23523ae8"
   },
   "outputs": [],
   "source": [
    "def create_grid(puzzle:str):\n",
    "    return np.array(list(puzzle), dtype=str).reshape(6,6)"
   ]
  },
  {
   "cell_type": "code",
   "execution_count": 4,
   "metadata": {
    "colab": {
     "base_uri": "https://localhost:8080/",
     "height": 183
    },
    "executionInfo": {
     "elapsed": 198,
     "status": "error",
     "timestamp": 1669695795110,
     "user": {
      "displayName": "Kevin Nguyen",
      "userId": "07336901096528624752"
     },
     "user_tz": 300
    },
    "id": "03896805",
    "outputId": "d798b9ad-1bbc-4959-8e5e-ee0c44881988"
   },
   "outputs": [
    {
     "name": "stdout",
     "output_type": "stream",
     "text": [
      "[['B' 'B' 'I' 'J' '.' '.']\n",
      " ['.' '.' 'I' 'J' 'C' 'C']\n",
      " ['.' '.' 'I' 'A' 'A' 'M']\n",
      " ['G' 'D' 'D' 'K' '.' 'M']\n",
      " ['G' 'H' '.' 'K' 'L' '.']\n",
      " ['G' 'H' 'F' 'F' 'L' '.']]\n"
     ]
    }
   ],
   "source": [
    "puzzle_grid = create_grid(puzzles[0])\n",
    "print(puzzle_grid)"
   ]
  },
  {
   "cell_type": "code",
   "execution_count": 5,
   "metadata": {
    "id": "1ac03a69"
   },
   "outputs": [],
   "source": [
    "class Car():\n",
    "    \n",
    "    def __init__(self, is_horizontal:bool, letter:str, car_length:int, arr_indices):\n",
    "        self.horizontal = is_horizontal\n",
    "        self.letter = letter\n",
    "        self.car_length = car_length\n",
    "        self.arr_indices = arr_indices\n",
    "    \n",
    "    def update_arr_indices(self, amount:int):\n",
    "        if self.horizontal:\n",
    "            self.arr_indices = self.arr_indices[0], self.arr_indices[1] + amount\n",
    "        else:\n",
    "            self.arr_indices = self.arr_indices[0] + amount, self.arr_indices[1]\n",
    "    \n",
    "    def __str__(self):\n",
    "        return \"{direction} car '{letter}' with a length of {length}. Indices i:{indices_i} and j:{indices_j}\".format(\n",
    "            direction='Horizontal' if self.horizontal else 'Vertical',\n",
    "            letter=self.letter,\n",
    "            length=self.car_length,\n",
    "            indices_i=self.arr_indices[0],\n",
    "            indices_j=self.arr_indices[1])"
   ]
  },
  {
   "cell_type": "code",
   "execution_count": 6,
   "metadata": {
    "id": "c8e3577e"
   },
   "outputs": [],
   "source": [
    "def get_all_cars_in_grid(puzzle:np.array):\n",
    "    \n",
    "    #find horizontal cars\n",
    "    cars = []\n",
    "    for row in puzzle[range(6)]:\n",
    "        #https://stackoverflow.com/a/6352456 for finding consecutive duplicates in a list\n",
    "        grouped_row = [(letter, sum(1 for i in g)) for letter, g in groupby(row)]\n",
    "        grouped_row = [Car(True, letter, num, np.where(puzzle==letter))\n",
    "                       for letter, num in grouped_row if letter!='.' and num>1]\n",
    "        if grouped_row is not None:\n",
    "            cars = cars + grouped_row\n",
    "    #find vertical cars\n",
    "    for i in range(6):\n",
    "        column = puzzle[:,i]\n",
    "        grouped_column = [(letter, sum(1 for i in g)) for letter, g in groupby(column)]\n",
    "        grouped_column = [Car(False, letter, num, np.where(puzzle==letter))\n",
    "                          for letter, num in grouped_column if letter!='.' and num>1]\n",
    "        if grouped_column is not None:\n",
    "            cars = cars + grouped_column\n",
    "    return cars"
   ]
  },
  {
   "cell_type": "code",
   "execution_count": 7,
   "metadata": {
    "id": "a354cefc"
   },
   "outputs": [],
   "source": [
    "cars = get_all_cars_in_grid(puzzle_grid)"
   ]
  },
  {
   "cell_type": "code",
   "execution_count": 8,
   "metadata": {
    "id": "b3cf2dab",
    "outputId": "4068d054-fd2d-4d33-aa5f-ef7f239433e4"
   },
   "outputs": [
    {
     "name": "stdout",
     "output_type": "stream",
     "text": [
      "Horizontal car 'B' with a length of 2. Indices i:[0 0] and j:[0 1]\n",
      "Horizontal car 'C' with a length of 2. Indices i:[1 1] and j:[4 5]\n",
      "Horizontal car 'A' with a length of 2. Indices i:[2 2] and j:[3 4]\n",
      "Horizontal car 'D' with a length of 2. Indices i:[3 3] and j:[1 2]\n",
      "Horizontal car 'F' with a length of 2. Indices i:[5 5] and j:[2 3]\n",
      "Vertical car 'G' with a length of 3. Indices i:[3 4 5] and j:[0 0 0]\n",
      "Vertical car 'H' with a length of 2. Indices i:[4 5] and j:[1 1]\n",
      "Vertical car 'I' with a length of 3. Indices i:[0 1 2] and j:[2 2 2]\n",
      "Vertical car 'J' with a length of 2. Indices i:[0 1] and j:[3 3]\n",
      "Vertical car 'K' with a length of 2. Indices i:[3 4] and j:[3 3]\n",
      "Vertical car 'L' with a length of 2. Indices i:[4 5] and j:[4 4]\n",
      "Vertical car 'M' with a length of 2. Indices i:[2 3] and j:[5 5]\n"
     ]
    }
   ],
   "source": [
    "for car in cars:\n",
    "    print(car)"
   ]
  },
  {
   "cell_type": "markdown",
   "metadata": {},
   "source": [
    "1. Group the consecutive duplicate letters\n",
    "2. Find the neighbours of the car's letter.\n",
    "3. Append a tuple of the group of empty spaces with the array index adjacent to the car to a list if it neighbours the car\n",
    "4. Return this list\n",
    "\n",
    "Front spaces are defined as j+1 or i+1. AKA going down or going to the right of the matrix.\n",
    "Back spaces are defined as j-1 or i-1. AKA going up or going to the left of the matrix."
   ]
  },
  {
   "cell_type": "code",
   "execution_count": 9,
   "metadata": {
    "id": "36d63b82"
   },
   "outputs": [],
   "source": [
    "def find_available_spaces_for_car_on_grid(car:Car, puzzle_grid:np.array):\n",
    "    \n",
    "    back_spaces = 0\n",
    "    front_spaces = 0\n",
    "    \n",
    "    if car.horizontal:\n",
    "        relevant_groups = [(letter, sum(1 for i in g)) for letter, g in groupby(puzzle_grid[car.arr_indices[0][1],:])]\n",
    "        index_of_car=[i for i, group in enumerate(relevant_groups) if group[0]==car.letter][0]\n",
    "    else:\n",
    "        relevant_groups = [(letter, sum(1 for i in g)) for letter, g in groupby(puzzle_grid[:,car.arr_indices[1][0]])]\n",
    "        index_of_car=[i for i, group in enumerate(relevant_groups) if group[0]==car.letter][0]\n",
    "    \n",
    "    try:\n",
    "        front_neighbour = relevant_groups[index_of_car+1]\n",
    "        front_spaces = front_neighbour[1] if front_neighbour[0]=='.' else 0\n",
    "    except IndexError:\n",
    "        front_spaces = 0\n",
    "    try:\n",
    "        back_neighbour = relevant_groups[index_of_car-1] if index_of_car > 0 else ('',0)\n",
    "        back_spaces = back_neighbour[1] if back_neighbour[0]=='.' else 0\n",
    "    except IndexError:\n",
    "        back_spaces = 0\n",
    "    \n",
    "    return car.letter, back_spaces, front_spaces"
   ]
  },
  {
   "cell_type": "code",
   "execution_count": 10,
   "metadata": {},
   "outputs": [
    {
     "name": "stdout",
     "output_type": "stream",
     "text": [
      "[('B', 0, 0), ('C', 0, 0), ('A', 0, 0), ('D', 0, 0), ('F', 0, 0), ('G', 2, 0), ('H', 0, 0), ('I', 0, 0), ('J', 0, 0), ('K', 0, 0), ('L', 1, 0), ('M', 0, 2)]\n"
     ]
    }
   ],
   "source": [
    "car_moves = [find_available_spaces_for_car_on_grid(car, puzzle_grid) for car in cars]\n",
    "print(car_moves)"
   ]
  },
  {
   "cell_type": "markdown",
   "metadata": {},
   "source": [
    "1. Pass car_moves into move_car? Let's assume that the passed amount is valid for the puzzle\n",
    "2. Update the car's array indices\n",
    "3. Update the grid/empty space, replace the car's old position with '.'s, then place the car at its new position\n",
    "4. return new puzzle grid"
   ]
  },
  {
   "cell_type": "code",
   "execution_count": 11,
   "metadata": {},
   "outputs": [],
   "source": [
    "def move_car(car:Car, puzzle_grid:np.array, amount:int):\n",
    "    car.update_arr_indices(amount)\n",
    "    new_grid = puzzle_grid\n",
    "    new_grid[new_grid==car.letter] = '.'\n",
    "    for x in range(len(car.arr_indices[0])):\n",
    "        new_grid[car.arr_indices[0][x], car.arr_indices[1][x]] = car.letter\n",
    "    return new_grid"
   ]
  },
  {
   "cell_type": "code",
   "execution_count": 12,
   "metadata": {},
   "outputs": [],
   "source": [
    "new_grid = move_car(cars[5], puzzle_grid, -2)"
   ]
  },
  {
   "cell_type": "code",
   "execution_count": 13,
   "metadata": {},
   "outputs": [
    {
     "data": {
      "text/plain": [
       "array([['B', 'B', 'I', 'J', '.', '.'],\n",
       "       ['G', '.', 'I', 'J', 'C', 'C'],\n",
       "       ['G', '.', 'I', 'A', 'A', 'M'],\n",
       "       ['G', 'D', 'D', 'K', '.', 'M'],\n",
       "       ['.', 'H', '.', 'K', 'L', '.'],\n",
       "       ['.', 'H', 'F', 'F', 'L', '.']], dtype='<U1')"
      ]
     },
     "execution_count": 13,
     "metadata": {},
     "output_type": "execute_result"
    }
   ],
   "source": [
    "new_grid"
   ]
  },
  {
   "cell_type": "code",
   "execution_count": null,
   "metadata": {},
   "outputs": [],
   "source": []
  }
 ],
 "metadata": {
  "colab": {
   "provenance": []
  },
  "kernelspec": {
   "display_name": "Python 3",
   "language": "python",
   "name": "python3"
  },
  "language_info": {
   "codemirror_mode": {
    "name": "ipython",
    "version": 3
   },
   "file_extension": ".py",
   "mimetype": "text/x-python",
   "name": "python",
   "nbconvert_exporter": "python",
   "pygments_lexer": "ipython3",
   "version": "3.8.5"
  }
 },
 "nbformat": 4,
 "nbformat_minor": 5
}
